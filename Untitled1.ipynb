{
 "cells": [
  {
   "cell_type": "code",
   "execution_count": 9,
   "id": "bbdf051e-9d5d-4556-b2a0-6adedd35de1d",
   "metadata": {
    "tags": []
   },
   "outputs": [
    {
     "name": "stdout",
     "output_type": "stream",
     "text": [
      "Requirement already satisfied: python-dotenv in /Users/areyansami/anaconda3/lib/python3.11/site-packages (1.0.0)\n",
      "Requirement already satisfied: alpaca-trade-api in /Users/areyansami/anaconda3/lib/python3.11/site-packages (3.0.2)\n",
      "Requirement already satisfied: pandas>=0.18.1 in /Users/areyansami/anaconda3/lib/python3.11/site-packages (from alpaca-trade-api) (1.5.3)\n",
      "Requirement already satisfied: numpy>=1.11.1 in /Users/areyansami/anaconda3/lib/python3.11/site-packages (from alpaca-trade-api) (1.24.3)\n",
      "Requirement already satisfied: requests<3,>2 in /Users/areyansami/anaconda3/lib/python3.11/site-packages (from alpaca-trade-api) (2.31.0)\n",
      "Requirement already satisfied: urllib3<2,>1.24 in /Users/areyansami/anaconda3/lib/python3.11/site-packages (from alpaca-trade-api) (1.26.16)\n",
      "Requirement already satisfied: websocket-client<2,>=0.56.0 in /Users/areyansami/anaconda3/lib/python3.11/site-packages (from alpaca-trade-api) (0.58.0)\n",
      "Requirement already satisfied: websockets<11,>=9.0 in /Users/areyansami/anaconda3/lib/python3.11/site-packages (from alpaca-trade-api) (10.4)\n",
      "Requirement already satisfied: msgpack==1.0.3 in /Users/areyansami/anaconda3/lib/python3.11/site-packages (from alpaca-trade-api) (1.0.3)\n",
      "Requirement already satisfied: aiohttp==3.8.2 in /Users/areyansami/anaconda3/lib/python3.11/site-packages (from alpaca-trade-api) (3.8.2)\n",
      "Requirement already satisfied: PyYAML==6.0 in /Users/areyansami/anaconda3/lib/python3.11/site-packages (from alpaca-trade-api) (6.0)\n",
      "Requirement already satisfied: deprecation==2.1.0 in /Users/areyansami/anaconda3/lib/python3.11/site-packages (from alpaca-trade-api) (2.1.0)\n",
      "Requirement already satisfied: attrs>=17.3.0 in /Users/areyansami/anaconda3/lib/python3.11/site-packages (from aiohttp==3.8.2->alpaca-trade-api) (22.1.0)\n",
      "Requirement already satisfied: charset-normalizer<3.0,>=2.0 in /Users/areyansami/anaconda3/lib/python3.11/site-packages (from aiohttp==3.8.2->alpaca-trade-api) (2.0.4)\n",
      "Requirement already satisfied: multidict<6.0,>=4.5 in /Users/areyansami/anaconda3/lib/python3.11/site-packages (from aiohttp==3.8.2->alpaca-trade-api) (5.2.0)\n",
      "Requirement already satisfied: async-timeout<5.0,>=4.0.0a3 in /Users/areyansami/anaconda3/lib/python3.11/site-packages (from aiohttp==3.8.2->alpaca-trade-api) (4.0.2)\n",
      "Requirement already satisfied: yarl<2.0,>=1.0 in /Users/areyansami/anaconda3/lib/python3.11/site-packages (from aiohttp==3.8.2->alpaca-trade-api) (1.8.1)\n",
      "Requirement already satisfied: frozenlist>=1.1.1 in /Users/areyansami/anaconda3/lib/python3.11/site-packages (from aiohttp==3.8.2->alpaca-trade-api) (1.3.3)\n",
      "Requirement already satisfied: aiosignal>=1.1.2 in /Users/areyansami/anaconda3/lib/python3.11/site-packages (from aiohttp==3.8.2->alpaca-trade-api) (1.2.0)\n",
      "Requirement already satisfied: packaging in /Users/areyansami/anaconda3/lib/python3.11/site-packages (from deprecation==2.1.0->alpaca-trade-api) (23.0)\n",
      "Requirement already satisfied: python-dateutil>=2.8.1 in /Users/areyansami/anaconda3/lib/python3.11/site-packages (from pandas>=0.18.1->alpaca-trade-api) (2.8.2)\n",
      "Requirement already satisfied: pytz>=2020.1 in /Users/areyansami/anaconda3/lib/python3.11/site-packages (from pandas>=0.18.1->alpaca-trade-api) (2022.7)\n",
      "Requirement already satisfied: idna<4,>=2.5 in /Users/areyansami/anaconda3/lib/python3.11/site-packages (from requests<3,>2->alpaca-trade-api) (3.4)\n",
      "Requirement already satisfied: certifi>=2017.4.17 in /Users/areyansami/anaconda3/lib/python3.11/site-packages (from requests<3,>2->alpaca-trade-api) (2023.7.22)\n",
      "Requirement already satisfied: six in /Users/areyansami/anaconda3/lib/python3.11/site-packages (from websocket-client<2,>=0.56.0->alpaca-trade-api) (1.16.0)\n"
     ]
    }
   ],
   "source": [
    "!python -m pip install python-dotenv\n",
    "!pip install alpaca-trade-api"
   ]
  },
  {
   "cell_type": "code",
   "execution_count": 12,
   "id": "6ac1652c-23ba-44b5-bc85-391b8589b037",
   "metadata": {
    "tags": []
   },
   "outputs": [],
   "source": [
    "#Imports\n",
    "import os\n",
    "import requests\n",
    "import pandas as pd\n",
    "from dotenv import load_dotenv\n",
    "import alpaca_trade_api as tradeapi\n",
    "from MCForecastTools import MCSimulation\n",
    "\n",
    "%matplotlib inline"
   ]
  },
  {
   "cell_type": "code",
   "execution_count": 13,
   "id": "8c1fec40-b6ae-4ce0-91ea-a8ff47d95694",
   "metadata": {
    "tags": []
   },
   "outputs": [
    {
     "data": {
      "text/plain": [
       "False"
      ]
     },
     "execution_count": 13,
     "metadata": {},
     "output_type": "execute_result"
    }
   ],
   "source": [
    "load_dotenv()"
   ]
  },
  {
   "cell_type": "code",
   "execution_count": 15,
   "id": "7759a6e3-5828-45e8-a217-eb2d224122ea",
   "metadata": {
    "tags": []
   },
   "outputs": [],
   "source": [
    "#current amount of shares\n",
    "my_btc = 1.2\n",
    "my_eth = 5.3"
   ]
  },
  {
   "cell_type": "code",
   "execution_count": 17,
   "id": "5c278df2-fcd7-4ffc-91b7-5ddf3b57c00c",
   "metadata": {
    "tags": []
   },
   "outputs": [],
   "source": [
    "#API urls\n",
    "btc_url = \"https://api.alternative.me/v2/ticker/Bitcoin/?convert=USD\"\n",
    "eth_url = \"https://api.alternative.me/v2/ticker/Ethereum/?convert=USD\""
   ]
  },
  {
   "cell_type": "code",
   "execution_count": 23,
   "id": "d956964b-c4e9-49b1-9690-dc2f70ee2940",
   "metadata": {
    "tags": []
   },
   "outputs": [
    {
     "name": "stdout",
     "output_type": "stream",
     "text": [
      "The current value of your 1.2 BTC is $40468.80\n",
      "The current value of your 5.3 ETH is $178737.20\n"
     ]
    }
   ],
   "source": [
    "#current BTC price\n",
    "btc_response = requests.get(btc_url).json()\n",
    "btc_price = btc_response['data']['1']['quotes']['USD']['price']\n",
    "\n",
    "#current ETH price\n",
    "eth_response = requests.get(eth_url).json()\n",
    "eth_price = btc_response['data']['1']['quotes']['USD']['price']\n",
    "\n",
    "#compute current value \n",
    "my_btc_value = my_btc * btc_price\n",
    "my_eth_value = my_eth * eth_price\n",
    "\n",
    "#print wallet balance\n",
    "print(f\"The current value of your {my_btc} BTC is ${my_btc_value:0.2f}\")\n",
    "print(f\"The current value of your {my_eth} ETH is ${my_eth_value:0.2f}\")"
   ]
  },
  {
   "cell_type": "code",
   "execution_count": 24,
   "id": "c9b429ee-449c-435a-b811-7d0bd8502940",
   "metadata": {
    "tags": []
   },
   "outputs": [],
   "source": [
    "#current amount of shares\n",
    "my_agg = 200\n",
    "my_spy = 50"
   ]
  },
  {
   "cell_type": "code",
   "execution_count": 25,
   "id": "bda26c03-4919-42df-b753-b9c185005e83",
   "metadata": {
    "tags": []
   },
   "outputs": [
    {
     "ename": "ValueError",
     "evalue": "('Key ID must be given to access Alpaca trade API', ' (env: APCA_API_KEY_ID)')",
     "output_type": "error",
     "traceback": [
      "\u001b[0;31m---------------------------------------------------------------------------\u001b[0m",
      "\u001b[0;31mValueError\u001b[0m                                Traceback (most recent call last)",
      "Cell \u001b[0;32mIn[25], line 6\u001b[0m\n\u001b[1;32m      3\u001b[0m alpaca_secret_key \u001b[38;5;241m=\u001b[39m os\u001b[38;5;241m.\u001b[39mgetenv(\u001b[38;5;124m'\u001b[39m\u001b[38;5;124mALPACA_SECRET_KEY\u001b[39m\u001b[38;5;124m'\u001b[39m)\n\u001b[1;32m      5\u001b[0m \u001b[38;5;66;03m#alpaca API object\u001b[39;00m\n\u001b[0;32m----> 6\u001b[0m alpaca \u001b[38;5;241m=\u001b[39m tradeapi\u001b[38;5;241m.\u001b[39mREST(\n\u001b[1;32m      7\u001b[0m     alpaca_api_key,\n\u001b[1;32m      8\u001b[0m     alpaca_secret_key,\n\u001b[1;32m      9\u001b[0m     api_version\u001b[38;5;241m=\u001b[39m\u001b[38;5;124m'\u001b[39m\u001b[38;5;124mv2\u001b[39m\u001b[38;5;124m'\u001b[39m)\n",
      "File \u001b[0;32m~/anaconda3/lib/python3.11/site-packages/alpaca_trade_api/rest.py:168\u001b[0m, in \u001b[0;36mREST.__init__\u001b[0;34m(self, key_id, secret_key, base_url, api_version, oauth, raw_data)\u001b[0m\n\u001b[1;32m    156\u001b[0m \u001b[38;5;28;01mdef\u001b[39;00m \u001b[38;5;21m__init__\u001b[39m(\u001b[38;5;28mself\u001b[39m,\n\u001b[1;32m    157\u001b[0m              key_id: \u001b[38;5;28mstr\u001b[39m \u001b[38;5;241m=\u001b[39m \u001b[38;5;28;01mNone\u001b[39;00m,\n\u001b[1;32m    158\u001b[0m              secret_key: \u001b[38;5;28mstr\u001b[39m \u001b[38;5;241m=\u001b[39m \u001b[38;5;28;01mNone\u001b[39;00m,\n\u001b[0;32m   (...)\u001b[0m\n\u001b[1;32m    162\u001b[0m              raw_data: \u001b[38;5;28mbool\u001b[39m \u001b[38;5;241m=\u001b[39m \u001b[38;5;28;01mFalse\u001b[39;00m\n\u001b[1;32m    163\u001b[0m              ):\n\u001b[1;32m    164\u001b[0m \u001b[38;5;250m    \u001b[39m\u001b[38;5;124;03m\"\"\"\u001b[39;00m\n\u001b[1;32m    165\u001b[0m \u001b[38;5;124;03m    :param raw_data: should we return api response raw or wrap it with\u001b[39;00m\n\u001b[1;32m    166\u001b[0m \u001b[38;5;124;03m                     Entity objects.\u001b[39;00m\n\u001b[1;32m    167\u001b[0m \u001b[38;5;124;03m    \"\"\"\u001b[39;00m\n\u001b[0;32m--> 168\u001b[0m     \u001b[38;5;28mself\u001b[39m\u001b[38;5;241m.\u001b[39m_key_id, \u001b[38;5;28mself\u001b[39m\u001b[38;5;241m.\u001b[39m_secret_key, \u001b[38;5;28mself\u001b[39m\u001b[38;5;241m.\u001b[39m_oauth \u001b[38;5;241m=\u001b[39m get_credentials(\n\u001b[1;32m    169\u001b[0m         key_id, secret_key, oauth)\n\u001b[1;32m    170\u001b[0m     \u001b[38;5;28mself\u001b[39m\u001b[38;5;241m.\u001b[39m_base_url: URL \u001b[38;5;241m=\u001b[39m URL(base_url \u001b[38;5;129;01mor\u001b[39;00m get_base_url())\n\u001b[1;32m    171\u001b[0m     \u001b[38;5;28mself\u001b[39m\u001b[38;5;241m.\u001b[39m_api_version \u001b[38;5;241m=\u001b[39m get_api_version(api_version)\n",
      "File \u001b[0;32m~/anaconda3/lib/python3.11/site-packages/alpaca_trade_api/common.py:84\u001b[0m, in \u001b[0;36mget_credentials\u001b[0;34m(key_id, secret_key, oauth)\u001b[0m\n\u001b[1;32m     82\u001b[0m key_id \u001b[38;5;241m=\u001b[39m key_id \u001b[38;5;129;01mor\u001b[39;00m os\u001b[38;5;241m.\u001b[39menviron\u001b[38;5;241m.\u001b[39mget(\u001b[38;5;124m'\u001b[39m\u001b[38;5;124mAPCA_API_KEY_ID\u001b[39m\u001b[38;5;124m'\u001b[39m)\n\u001b[1;32m     83\u001b[0m \u001b[38;5;28;01mif\u001b[39;00m key_id \u001b[38;5;129;01mis\u001b[39;00m \u001b[38;5;28;01mNone\u001b[39;00m \u001b[38;5;129;01mand\u001b[39;00m oauth \u001b[38;5;129;01mis\u001b[39;00m \u001b[38;5;28;01mNone\u001b[39;00m:\n\u001b[0;32m---> 84\u001b[0m     \u001b[38;5;28;01mraise\u001b[39;00m \u001b[38;5;167;01mValueError\u001b[39;00m(\u001b[38;5;124m'\u001b[39m\u001b[38;5;124mKey ID must be given to access Alpaca trade API\u001b[39m\u001b[38;5;124m'\u001b[39m,\n\u001b[1;32m     85\u001b[0m                      \u001b[38;5;124m'\u001b[39m\u001b[38;5;124m (env: APCA_API_KEY_ID)\u001b[39m\u001b[38;5;124m'\u001b[39m)\n\u001b[1;32m     87\u001b[0m secret_key \u001b[38;5;241m=\u001b[39m secret_key \u001b[38;5;129;01mor\u001b[39;00m os\u001b[38;5;241m.\u001b[39menviron\u001b[38;5;241m.\u001b[39mget(\u001b[38;5;124m'\u001b[39m\u001b[38;5;124mAPCA_API_SECRET_KEY\u001b[39m\u001b[38;5;124m'\u001b[39m)\n\u001b[1;32m     88\u001b[0m \u001b[38;5;28;01mif\u001b[39;00m secret_key \u001b[38;5;129;01mis\u001b[39;00m \u001b[38;5;28;01mNone\u001b[39;00m \u001b[38;5;129;01mand\u001b[39;00m oauth \u001b[38;5;129;01mis\u001b[39;00m \u001b[38;5;28;01mNone\u001b[39;00m:\n",
      "\u001b[0;31mValueError\u001b[0m: ('Key ID must be given to access Alpaca trade API', ' (env: APCA_API_KEY_ID)')"
     ]
    }
   ],
   "source": [
    "#alpaca API key and secret\n",
    "alpaca_api_key = os.getenv('ALPACA_API_KEY')\n",
    "alpaca_secret_key = os.getenv('ALPACA_SECRET_KEY')\n",
    "\n",
    "#alpaca API object\n",
    "alpaca = tradeapi.REST(\n",
    "    alpaca_api_key,\n",
    "    alpaca_secret_key,\n",
    "    api_version='v2')"
   ]
  },
  {
   "cell_type": "code",
   "execution_count": null,
   "id": "2ec0acf0-8f67-4fad-bbaa-8163ebc388b0",
   "metadata": {},
   "outputs": [],
   "source": []
  }
 ],
 "metadata": {
  "kernelspec": {
   "display_name": "Python 3 (ipykernel)",
   "language": "python",
   "name": "python3"
  },
  "language_info": {
   "codemirror_mode": {
    "name": "ipython",
    "version": 3
   },
   "file_extension": ".py",
   "mimetype": "text/x-python",
   "name": "python",
   "nbconvert_exporter": "python",
   "pygments_lexer": "ipython3",
   "version": "3.11.4"
  }
 },
 "nbformat": 4,
 "nbformat_minor": 5
}
